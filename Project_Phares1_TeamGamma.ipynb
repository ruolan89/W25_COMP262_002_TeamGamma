{
 "cells": [
  {
   "cell_type": "code",
   "execution_count": 1,
   "id": "d976ca27-e6eb-4567-b2bb-19cf03b0ee54",
   "metadata": {},
   "outputs": [
    {
     "data": {
      "text/plain": [
       "'\\nTeam Gamma\\nCOMP262\\n'"
      ]
     },
     "execution_count": 1,
     "metadata": {},
     "output_type": "execute_result"
    }
   ],
   "source": [
    "\"\"\"\n",
    "Team Gamma\n",
    "COMP262\n",
    "\"\"\""
   ]
  },
  {
   "cell_type": "code",
   "execution_count": 2,
   "id": "3e163f47-bb7d-4bd5-aedc-c9ce75685aad",
   "metadata": {},
   "outputs": [],
   "source": [
    "import pandas as pd\n",
    "from pathlib import Path"
   ]
  },
  {
   "cell_type": "code",
   "execution_count": 3,
   "id": "9c84a796-bba2-494c-9b6b-6624372d43a1",
   "metadata": {},
   "outputs": [
    {
     "name": "stdout",
     "output_type": "stream",
     "text": [
      "current_dir: /Users/rebecca/Documents/CROUSE/Winter-2025/COMP262-NLP_RS/Project/W25_COMP262_002_TeamGamma\n",
      "data_path: /Users/rebecca/Documents/CROUSE/Winter-2025/COMP262-NLP_RS/Project/W25_COMP262_002_TeamGamma/Industrial_and_Scientific_5.json\n"
     ]
    }
   ],
   "source": [
    "current_dir = Path.cwd()\n",
    "data_path = current_dir / \"Industrial_and_Scientific_5.json\"\n",
    "\n",
    "print(\"current_dir:\", current_dir)\n",
    "print(\"data_path:\", data_path)"
   ]
  },
  {
   "cell_type": "code",
   "execution_count": 4,
   "id": "c2e62137-42ea-4c14-97b3-d23591b11b00",
   "metadata": {},
   "outputs": [],
   "source": [
    "data = pd.read_json(data_path,orient='records',lines=True)"
   ]
  },
  {
   "cell_type": "code",
   "execution_count": 5,
   "id": "015235d1-e1e9-4fdf-a1aa-21d4350d3a07",
   "metadata": {},
   "outputs": [
    {
     "data": {
      "text/plain": [
       "'\\n1. Dataset data exploration: List the main finding of the dataset. Be thorough and creative.\\nFor example, look at:\\na. Counts, averages\\n'"
      ]
     },
     "execution_count": 5,
     "metadata": {},
     "output_type": "execute_result"
    }
   ],
   "source": [
    "\"\"\"\n",
    "1. Dataset data exploration: List the main finding of the dataset. Be thorough and creative.\n",
    "For example, look at:\n",
    "a. Counts, averages\n",
    "\"\"\""
   ]
  },
  {
   "cell_type": "code",
   "execution_count": 6,
   "id": "a130bdb6-3254-4844-99b9-3958d1932aae",
   "metadata": {},
   "outputs": [
    {
     "data": {
      "text/html": [
       "<div>\n",
       "<style scoped>\n",
       "    .dataframe tbody tr th:only-of-type {\n",
       "        vertical-align: middle;\n",
       "    }\n",
       "\n",
       "    .dataframe tbody tr th {\n",
       "        vertical-align: top;\n",
       "    }\n",
       "\n",
       "    .dataframe thead th {\n",
       "        text-align: right;\n",
       "    }\n",
       "</style>\n",
       "<table border=\"1\" class=\"dataframe\">\n",
       "  <thead>\n",
       "    <tr style=\"text-align: right;\">\n",
       "      <th></th>\n",
       "      <th>overall</th>\n",
       "      <th>verified</th>\n",
       "      <th>reviewTime</th>\n",
       "      <th>reviewerID</th>\n",
       "      <th>asin</th>\n",
       "      <th>style</th>\n",
       "      <th>reviewerName</th>\n",
       "      <th>reviewText</th>\n",
       "      <th>summary</th>\n",
       "      <th>unixReviewTime</th>\n",
       "      <th>vote</th>\n",
       "      <th>image</th>\n",
       "    </tr>\n",
       "  </thead>\n",
       "  <tbody>\n",
       "    <tr>\n",
       "      <th>0</th>\n",
       "      <td>5</td>\n",
       "      <td>True</td>\n",
       "      <td>11 27, 2017</td>\n",
       "      <td>A1JB7HFWHRYHT7</td>\n",
       "      <td>B0000223SI</td>\n",
       "      <td>{'Size:': ' 1-(Pack)'}</td>\n",
       "      <td>Alex W.</td>\n",
       "      <td>This worked really well for what I used it for...</td>\n",
       "      <td>Couldn't have been happier with it's performance</td>\n",
       "      <td>1511740800</td>\n",
       "      <td>NaN</td>\n",
       "      <td>NaN</td>\n",
       "    </tr>\n",
       "    <tr>\n",
       "      <th>1</th>\n",
       "      <td>5</td>\n",
       "      <td>True</td>\n",
       "      <td>11 4, 2017</td>\n",
       "      <td>A2FCLJG5GV8SD6</td>\n",
       "      <td>B0000223SI</td>\n",
       "      <td>{'Size:': ' 1-(Pack)'}</td>\n",
       "      <td>Randall Harris</td>\n",
       "      <td>Fast cutting and good adheasive.</td>\n",
       "      <td>Good paper.</td>\n",
       "      <td>1509753600</td>\n",
       "      <td>NaN</td>\n",
       "      <td>NaN</td>\n",
       "    </tr>\n",
       "    <tr>\n",
       "      <th>2</th>\n",
       "      <td>5</td>\n",
       "      <td>False</td>\n",
       "      <td>10 27, 2017</td>\n",
       "      <td>A3IT9B33NWYQSL</td>\n",
       "      <td>B0000223SI</td>\n",
       "      <td>{'Size:': ' 1-(Pack)'}</td>\n",
       "      <td>A. C.</td>\n",
       "      <td>Worked great for my lapping bench.  I would li...</td>\n",
       "      <td>Handy!</td>\n",
       "      <td>1509062400</td>\n",
       "      <td>NaN</td>\n",
       "      <td>NaN</td>\n",
       "    </tr>\n",
       "    <tr>\n",
       "      <th>3</th>\n",
       "      <td>4</td>\n",
       "      <td>True</td>\n",
       "      <td>01 13, 2018</td>\n",
       "      <td>AUL5LCV4TT73P</td>\n",
       "      <td>B0000223SK</td>\n",
       "      <td>{'Size:': ' 1-Pack'}</td>\n",
       "      <td>TnT</td>\n",
       "      <td>As advertised</td>\n",
       "      <td>As advertised</td>\n",
       "      <td>1515801600</td>\n",
       "      <td>NaN</td>\n",
       "      <td>NaN</td>\n",
       "    </tr>\n",
       "    <tr>\n",
       "      <th>4</th>\n",
       "      <td>5</td>\n",
       "      <td>True</td>\n",
       "      <td>10 7, 2017</td>\n",
       "      <td>A1V3I3L5JKO7TM</td>\n",
       "      <td>B0000223SK</td>\n",
       "      <td>{'Size:': ' 1-Pack'}</td>\n",
       "      <td>John Jones</td>\n",
       "      <td>seems like a pretty good value as opposed to b...</td>\n",
       "      <td>seems like a pretty good value as opposed to b...</td>\n",
       "      <td>1507334400</td>\n",
       "      <td>NaN</td>\n",
       "      <td>NaN</td>\n",
       "    </tr>\n",
       "  </tbody>\n",
       "</table>\n",
       "</div>"
      ],
      "text/plain": [
       "   overall  verified   reviewTime      reviewerID        asin  \\\n",
       "0        5      True  11 27, 2017  A1JB7HFWHRYHT7  B0000223SI   \n",
       "1        5      True   11 4, 2017  A2FCLJG5GV8SD6  B0000223SI   \n",
       "2        5     False  10 27, 2017  A3IT9B33NWYQSL  B0000223SI   \n",
       "3        4      True  01 13, 2018   AUL5LCV4TT73P  B0000223SK   \n",
       "4        5      True   10 7, 2017  A1V3I3L5JKO7TM  B0000223SK   \n",
       "\n",
       "                    style    reviewerName  \\\n",
       "0  {'Size:': ' 1-(Pack)'}         Alex W.   \n",
       "1  {'Size:': ' 1-(Pack)'}  Randall Harris   \n",
       "2  {'Size:': ' 1-(Pack)'}           A. C.   \n",
       "3    {'Size:': ' 1-Pack'}             TnT   \n",
       "4    {'Size:': ' 1-Pack'}      John Jones   \n",
       "\n",
       "                                          reviewText  \\\n",
       "0  This worked really well for what I used it for...   \n",
       "1                   Fast cutting and good adheasive.   \n",
       "2  Worked great for my lapping bench.  I would li...   \n",
       "3                                      As advertised   \n",
       "4  seems like a pretty good value as opposed to b...   \n",
       "\n",
       "                                             summary  unixReviewTime vote  \\\n",
       "0   Couldn't have been happier with it's performance      1511740800  NaN   \n",
       "1                                        Good paper.      1509753600  NaN   \n",
       "2                                             Handy!      1509062400  NaN   \n",
       "3                                      As advertised      1515801600  NaN   \n",
       "4  seems like a pretty good value as opposed to b...      1507334400  NaN   \n",
       "\n",
       "  image  \n",
       "0   NaN  \n",
       "1   NaN  \n",
       "2   NaN  \n",
       "3   NaN  \n",
       "4   NaN  "
      ]
     },
     "execution_count": 6,
     "metadata": {},
     "output_type": "execute_result"
    }
   ],
   "source": [
    "data.head()"
   ]
  },
  {
   "cell_type": "code",
   "execution_count": 7,
   "id": "6931e25e-9c66-4564-ad2e-5e819f269dab",
   "metadata": {},
   "outputs": [
    {
     "data": {
      "text/html": [
       "<div>\n",
       "<style scoped>\n",
       "    .dataframe tbody tr th:only-of-type {\n",
       "        vertical-align: middle;\n",
       "    }\n",
       "\n",
       "    .dataframe tbody tr th {\n",
       "        vertical-align: top;\n",
       "    }\n",
       "\n",
       "    .dataframe thead th {\n",
       "        text-align: right;\n",
       "    }\n",
       "</style>\n",
       "<table border=\"1\" class=\"dataframe\">\n",
       "  <thead>\n",
       "    <tr style=\"text-align: right;\">\n",
       "      <th></th>\n",
       "      <th>overall</th>\n",
       "      <th>unixReviewTime</th>\n",
       "    </tr>\n",
       "  </thead>\n",
       "  <tbody>\n",
       "    <tr>\n",
       "      <th>count</th>\n",
       "      <td>77071.000000</td>\n",
       "      <td>7.707100e+04</td>\n",
       "    </tr>\n",
       "    <tr>\n",
       "      <th>mean</th>\n",
       "      <td>4.524062</td>\n",
       "      <td>1.454857e+09</td>\n",
       "    </tr>\n",
       "    <tr>\n",
       "      <th>std</th>\n",
       "      <td>0.949668</td>\n",
       "      <td>4.559407e+07</td>\n",
       "    </tr>\n",
       "    <tr>\n",
       "      <th>min</th>\n",
       "      <td>1.000000</td>\n",
       "      <td>1.051402e+09</td>\n",
       "    </tr>\n",
       "    <tr>\n",
       "      <th>25%</th>\n",
       "      <td>4.000000</td>\n",
       "      <td>1.427674e+09</td>\n",
       "    </tr>\n",
       "    <tr>\n",
       "      <th>50%</th>\n",
       "      <td>5.000000</td>\n",
       "      <td>1.459469e+09</td>\n",
       "    </tr>\n",
       "    <tr>\n",
       "      <th>75%</th>\n",
       "      <td>5.000000</td>\n",
       "      <td>1.486944e+09</td>\n",
       "    </tr>\n",
       "    <tr>\n",
       "      <th>max</th>\n",
       "      <td>5.000000</td>\n",
       "      <td>1.538093e+09</td>\n",
       "    </tr>\n",
       "  </tbody>\n",
       "</table>\n",
       "</div>"
      ],
      "text/plain": [
       "            overall  unixReviewTime\n",
       "count  77071.000000    7.707100e+04\n",
       "mean       4.524062    1.454857e+09\n",
       "std        0.949668    4.559407e+07\n",
       "min        1.000000    1.051402e+09\n",
       "25%        4.000000    1.427674e+09\n",
       "50%        5.000000    1.459469e+09\n",
       "75%        5.000000    1.486944e+09\n",
       "max        5.000000    1.538093e+09"
      ]
     },
     "execution_count": 7,
     "metadata": {},
     "output_type": "execute_result"
    }
   ],
   "source": [
    "data.describe()"
   ]
  },
  {
   "cell_type": "code",
   "execution_count": 8,
   "id": "0e4ddadb-4624-4472-b8f8-21e745d0b559",
   "metadata": {},
   "outputs": [
    {
     "name": "stdout",
     "output_type": "stream",
     "text": [
      "<class 'pandas.core.frame.DataFrame'>\n",
      "RangeIndex: 77071 entries, 0 to 77070\n",
      "Data columns (total 12 columns):\n",
      " #   Column          Non-Null Count  Dtype \n",
      "---  ------          --------------  ----- \n",
      " 0   overall         77071 non-null  int64 \n",
      " 1   verified        77071 non-null  bool  \n",
      " 2   reviewTime      77071 non-null  object\n",
      " 3   reviewerID      77071 non-null  object\n",
      " 4   asin            77071 non-null  object\n",
      " 5   style           36037 non-null  object\n",
      " 6   reviewerName    77044 non-null  object\n",
      " 7   reviewText      77060 non-null  object\n",
      " 8   summary         77061 non-null  object\n",
      " 9   unixReviewTime  77071 non-null  int64 \n",
      " 10  vote            9620 non-null   object\n",
      " 11  image           1719 non-null   object\n",
      "dtypes: bool(1), int64(2), object(9)\n",
      "memory usage: 6.5+ MB\n"
     ]
    }
   ],
   "source": [
    "data.info()"
   ]
  },
  {
   "cell_type": "code",
   "execution_count": 9,
   "id": "718b0499-5005-4ed7-ab9f-ea22204e2f7a",
   "metadata": {},
   "outputs": [],
   "source": [
    "# b. Distribution of the number of reviews across products"
   ]
  },
  {
   "cell_type": "code",
   "execution_count": 10,
   "id": "d69e0f7f-a533-4b83-874e-5067745a0174",
   "metadata": {},
   "outputs": [],
   "source": [
    "from matplotlib import pyplot as plt\n",
    "import numpy as np\n",
    "import seaborn as sns"
   ]
  },
  {
   "cell_type": "code",
   "execution_count": 11,
   "id": "ca37b55e-26d4-4c71-91f4-dbbaa267246c",
   "metadata": {},
   "outputs": [
    {
     "data": {
      "image/png": "[encoded data removed]",
      "text/plain": [
       "<Figure size 800x500 with 1 Axes>"
      ]
     },
     "metadata": {},
     "output_type": "display_data"
    },
    {
     "name": "stdout",
     "output_type": "stream",
     "text": [
      "Ratings Distribution:\n",
      "overall\n",
      "1     2482\n",
      "2     1936\n",
      "3     4442\n",
      "4    12061\n",
      "5    56150\n",
      "Name: count, dtype: int64\n"
     ]
    }
   ],
   "source": [
    "rating_counts = data['overall'].value_counts().sort_index()\n",
    "\n",
    "plt.figure(figsize=(8,5))\n",
    "plt.bar(rating_counts.index, rating_counts.values)\n",
    "plt.xlabel(\"Overall Rating\")\n",
    "plt.ylabel(\"Number of Reviews\")\n",
    "plt.title(\"Distribution of Ratings\")\n",
    "plt.show()\n",
    "\n",
    "print(\"Ratings Distribution:\")\n",
    "print(rating_counts)"
   ]
  },
  {
   "cell_type": "code",
   "execution_count": 12,
   "id": "6d710bb8-583f-46a3-b573-99dab7c6c7a7",
   "metadata": {},
   "outputs": [],
   "source": [
    "num_across_products = data['asin'].value_counts()"
   ]
  },
  {
   "cell_type": "code",
   "execution_count": 13,
   "id": "86e7e123-c4e4-42c5-81f3-eadefc4f4708",
   "metadata": {},
   "outputs": [
    {
     "data": {
      "text/plain": [
       "asin\n",
       "B0013BKDO8    1229\n",
       "B00DRALJ28     910\n",
       "B0001MSC84     650\n",
       "B000EJUBBU     305\n",
       "B001766LZO     241\n",
       "B000ZTEPWU     210\n",
       "B0002EQU6C     205\n",
       "B00837ZGRY     204\n",
       "B00DMI632G     203\n",
       "B001769IRW     191\n",
       "Name: count, dtype: int64"
      ]
     },
     "execution_count": 13,
     "metadata": {},
     "output_type": "execute_result"
    }
   ],
   "source": [
    "num_across_products.head(10)"
   ]
  },
  {
   "cell_type": "code",
   "execution_count": 14,
   "id": "667d1c0b-c300-4efd-807c-1ee7b52996ca",
   "metadata": {},
   "outputs": [
    {
     "data": {
      "text/plain": [
       "5334"
      ]
     },
     "execution_count": 14,
     "metadata": {},
     "output_type": "execute_result"
    }
   ],
   "source": [
    "len(num_across_products)"
   ]
  },
  {
   "cell_type": "code",
   "execution_count": 15,
   "id": "de535e2e-f1bb-4ee6-b9d2-28c6ec062d74",
   "metadata": {},
   "outputs": [
    {
     "data": {
      "text/plain": [
       "1229"
      ]
     },
     "execution_count": 15,
     "metadata": {},
     "output_type": "execute_result"
    }
   ],
   "source": [
    "max(num_across_products.values)"
   ]
  },
  {
   "cell_type": "code",
   "execution_count": 16,
   "id": "d7765e96-9c60-4f5c-a281-408cd3bf86c8",
   "metadata": {},
   "outputs": [
    {
     "data": {
      "text/plain": [
       "1"
      ]
     },
     "execution_count": 16,
     "metadata": {},
     "output_type": "execute_result"
    }
   ],
   "source": [
    "min(num_across_products.values)"
   ]
  },
  {
   "cell_type": "code",
   "execution_count": 17,
   "id": "fc2ad3b3-2041-4b71-8a3c-01b813267356",
   "metadata": {},
   "outputs": [],
   "source": [
    "x_80 = np.percentile(np.log10(num_across_products.values), 80)"
   ]
  },
  {
   "cell_type": "code",
   "execution_count": 18,
   "id": "77eba32f-5169-4585-8832-60e0f10677f4",
   "metadata": {},
   "outputs": [
    {
     "data": {
      "image/png": "[encoded data removed]",
      "text/plain": [
       "<Figure size 1500x600 with 1 Axes>"
      ]
     },
     "metadata": {},
     "output_type": "display_data"
    }
   ],
   "source": [
    "plt.figure(figsize=(15, 6))\n",
    "sns.ecdfplot(np.log10(num_across_products.values))\n",
    "plt.axhline(y=0.8, color='r', linestyle='--', alpha=0.7)\n",
    "plt.axvline(x=x_80, color='r', linestyle='--', alpha=0.7)\n",
    "plt.scatter([x_80], [0.8], color='red', zorder=3)\n",
    "plt.text(x_80+0.05, 0.75, f\"x = {str(int(10**x_80))}\", fontsize=12, color='red')\n",
    "xticks = np.log10(num_across_products.values)\n",
    "plt.xticks(xticks, [str(int(10**x)) for x in xticks])\n",
    "plt.xlabel(\"Number of Reviews per Product\")\n",
    "plt.ylabel(\"Cumulative Probability\")\n",
    "plt.title(\"Cumulative Distribution of Reviews Across Products\")\n",
    "plt.show()"
   ]
  },
  {
   "cell_type": "code",
   "execution_count": 19,
   "id": "1ae49498-28f1-4419-b5bd-a808ed349e8f",
   "metadata": {},
   "outputs": [],
   "source": [
    "# c. Distribution of the number of reviews per product"
   ]
  },
  {
   "cell_type": "code",
   "execution_count": 20,
   "id": "7e57f456-9c9c-47b8-8926-6f736ddab693",
   "metadata": {},
   "outputs": [
    {
     "data": {
      "image/png": "[encoded data removed]",
      "text/plain": [
       "<Figure size 400x500 with 1 Axes>"
      ]
     },
     "metadata": {},
     "output_type": "display_data"
    }
   ],
   "source": [
    "plt.figure(figsize=(4, 5))\n",
    "plt.hist(np.log10(num_across_products.values), bins=30)\n",
    "xticks = np.log10(num_across_products.values)\n",
    "plt.xlabel('Number of Reviews(log10)')\n",
    "plt.ylabel('Number of Products')\n",
    "plt.title('the Number of Reviews Per Product Distribution')\n",
    "plt.show()"
   ]
  },
  {
   "cell_type": "code",
   "execution_count": 21,
   "id": "d8610363-3929-41e7-bb55-3d7aaa95cd91",
   "metadata": {},
   "outputs": [],
   "source": [
    "# d. Distribution of reviews per user"
   ]
  },
  {
   "cell_type": "code",
   "execution_count": 22,
   "id": "35ed03ad-7405-4a98-b923-6eb9b60d541f",
   "metadata": {},
   "outputs": [
    {
     "name": "stdout",
     "output_type": "stream",
     "text": [
      "reviewerID\n",
      "A3L1VJMHFWONCB    99\n",
      "A2W19IAPS7ZSDK    64\n",
      "A2JZUUAAK3HNHS    61\n",
      "A3OXHLG6DIBRW8    55\n",
      "A2J2MQ45S3N25N    47\n",
      "                  ..\n",
      "A2FGD486F64BYM     4\n",
      "A1MRD8YEY0IVCB     4\n",
      "A3A2555BBGXNMI     4\n",
      "A15CSHMACOQ70J     3\n",
      "A36UN90WLZ5X10     2\n",
      "Name: count, Length: 11041, dtype: int64\n"
     ]
    }
   ],
   "source": [
    "num_reviews_user = data['reviewerID'].value_counts()\n",
    "print(num_reviews_user)"
   ]
  },
  {
   "cell_type": "code",
   "execution_count": 23,
   "id": "f08e21f1-2c55-42f0-8b6c-c73ffb057b52",
   "metadata": {},
   "outputs": [
    {
     "data": {
      "image/png": "[encoded data removed]",
      "text/plain": [
       "<Figure size 1000x600 with 1 Axes>"
      ]
     },
     "metadata": {},
     "output_type": "display_data"
    }
   ],
   "source": [
    "plt.figure(figsize=(10, 6))\n",
    "plt.hist(num_reviews_user.values)\n",
    "plt.xlabel('Number of Reviews')\n",
    "plt.ylabel('Count Users')\n",
    "plt.title('Reviews Count of Each User Distribution')\n",
    "plt.show()"
   ]
  },
  {
   "cell_type": "code",
   "execution_count": 24,
   "id": "5f845b1d-f2b3-420e-a368-43c1b34a32e1",
   "metadata": {},
   "outputs": [],
   "source": [
    "x_80_u = np.percentile(num_reviews_user.values, 80)"
   ]
  },
  {
   "cell_type": "code",
   "execution_count": 25,
   "id": "ec6ea944-5cd0-4f60-81e4-697340d33448",
   "metadata": {},
   "outputs": [
    {
     "data": {
      "image/png": "[encoded data removed]",
      "text/plain": [
       "<Figure size 1500x600 with 1 Axes>"
      ]
     },
     "metadata": {},
     "output_type": "display_data"
    }
   ],
   "source": [
    "plt.figure(figsize=(15, 6))\n",
    "sns.ecdfplot(num_reviews_user.values)\n",
    "plt.axhline(y=0.8, color='r', linestyle='--', alpha=0.7)\n",
    "plt.axvline(x=x_80_u, color='r', linestyle='--', alpha=0.7)\n",
    "plt.scatter([x_80_u], [0.8], color='red', zorder=3)\n",
    "plt.text(x_80_u+0.5, 0.75, f\"x = {x_80_u}\", fontsize=12, color='red')\n",
    "plt.xlabel(\"Number of Reviews per User\")\n",
    "plt.ylabel(\"Cumulative Probability\")\n",
    "plt.title(\"Cumulative Distribution of Reviews Per User\")\n",
    "plt.show()"
   ]
  },
  {
   "cell_type": "code",
   "execution_count": 26,
   "id": "5dca6d67-e5e1-492e-8fae-6ec8b7ffd831",
   "metadata": {},
   "outputs": [
    {
     "data": {
      "image/png": "[encoded data removed]",
      "text/plain": [
       "<Figure size 1200x500 with 1 Axes>"
      ]
     },
     "metadata": {},
     "output_type": "display_data"
    }
   ],
   "source": [
    "# e. Review lengths and outliers\n",
    "data['reviewText_length_words'] = data['reviewText'].apply(lambda x: len(str(x).split()))\n",
    "data['reviewText_length_chars'] = data['reviewText'].apply(lambda x: len(str(x)))\n",
    "\n",
    "plt.figure(figsize=(12, 5))\n",
    "sns.histplot(data['reviewText_length_words'])\n",
    "plt.title('Distribution of review length (words)')\n",
    "plt.xlabel('Number of words')\n",
    "plt.ylabel('Frequency')\n",
    "plt.show()"
   ]
  },
  {
   "cell_type": "code",
   "execution_count": 27,
   "id": "f15e6e1e-bf70-4607-adb2-fe2e54a21ed1",
   "metadata": {},
   "outputs": [
    {
     "name": "stdout",
     "output_type": "stream",
     "text": [
      "Number of outlier reviews: 7330\n"
     ]
    }
   ],
   "source": [
    "Q1 = data['reviewText_length_words'].quantile(0.25)\n",
    "Q3 = data['reviewText_length_words'].quantile(0.75)\n",
    "IQR = Q3 - Q1\n",
    "lower_bound = Q1 - 1.5 * IQR\n",
    "upper_bound = Q3 + 1.5 * IQR\n",
    "\n",
    "outliers = data[(data['reviewText_length_words'] < lower_bound) | (data['reviewText_length_words'] > upper_bound)]\n",
    "print(f'Number of outlier reviews: {len(outliers)}')"
   ]
  },
  {
   "cell_type": "code",
   "execution_count": 28,
   "id": "ff7c32c2-8163-4ff7-bd67-29cc727663f8",
   "metadata": {},
   "outputs": [
    {
     "data": {
      "image/png": "[encoded data removed]",
      "text/plain": [
       "<Figure size 1000x500 with 1 Axes>"
      ]
     },
     "metadata": {},
     "output_type": "display_data"
    }
   ],
   "source": [
    "plt.figure(figsize=(10,5))\n",
    "sns.boxplot(x=data['reviewText_length_words'])\n",
    "plt.title('Boxplot of review length (words)')\n",
    "plt.show()"
   ]
  },
  {
   "cell_type": "code",
   "execution_count": 29,
   "id": "6ba4c8f2-d79b-4e14-88e0-b16e93d22dd2",
   "metadata": {},
   "outputs": [
    {
     "name": "stdout",
     "output_type": "stream",
     "text": [
      "<class 'pandas.core.frame.DataFrame'>\n",
      "RangeIndex: 77071 entries, 0 to 77070\n",
      "Data columns (total 14 columns):\n",
      " #   Column                   Non-Null Count  Dtype \n",
      "---  ------                   --------------  ----- \n",
      " 0   overall                  77071 non-null  int64 \n",
      " 1   verified                 77071 non-null  bool  \n",
      " 2   reviewTime               77071 non-null  object\n",
      " 3   reviewerID               77071 non-null  object\n",
      " 4   asin                     77071 non-null  object\n",
      " 5   style                    36037 non-null  object\n",
      " 6   reviewerName             77044 non-null  object\n",
      " 7   reviewText               77060 non-null  object\n",
      " 8   summary                  77061 non-null  object\n",
      " 9   unixReviewTime           77071 non-null  int64 \n",
      " 10  vote                     9620 non-null   object\n",
      " 11  image                    1719 non-null   object\n",
      " 12  reviewText_length_words  77071 non-null  int64 \n",
      " 13  reviewText_length_chars  77071 non-null  int64 \n",
      "dtypes: bool(1), int64(4), object(9)\n",
      "memory usage: 7.7+ MB\n"
     ]
    }
   ],
   "source": [
    "data.info()"
   ]
  },
  {
   "cell_type": "code",
   "execution_count": 30,
   "id": "0b5a4756-791d-4334-bf41-68763506048a",
   "metadata": {},
   "outputs": [
    {
     "name": "stdout",
     "output_type": "stream",
     "text": [
      "11\n",
      "[603, 14747, 18813, 21401, 35713, 38271, 41986, 41987, 43997, 55969, 56410]\n"
     ]
    }
   ],
   "source": [
    "nan_rows = data[data['reviewText'].isna()]\n",
    "nan_indices = nan_rows.index.tolist()\n",
    "print(len(nan_indices))\n",
    "print(nan_indices)"
   ]
  },
  {
   "cell_type": "code",
   "execution_count": 31,
   "id": "f1f72287-f82f-4172-8611-d87c8f35da0a",
   "metadata": {},
   "outputs": [],
   "source": [
    "data_without_nan = data.fillna('')"
   ]
  },
  {
   "cell_type": "code",
   "execution_count": 32,
   "id": "3162a74d-0994-4f3a-a59b-de29f77d4c21",
   "metadata": {},
   "outputs": [
    {
     "name": "stdout",
     "output_type": "stream",
     "text": [
      "<class 'pandas.core.frame.DataFrame'>\n",
      "RangeIndex: 77071 entries, 0 to 77070\n",
      "Data columns (total 14 columns):\n",
      " #   Column                   Non-Null Count  Dtype \n",
      "---  ------                   --------------  ----- \n",
      " 0   overall                  77071 non-null  int64 \n",
      " 1   verified                 77071 non-null  bool  \n",
      " 2   reviewTime               77071 non-null  object\n",
      " 3   reviewerID               77071 non-null  object\n",
      " 4   asin                     77071 non-null  object\n",
      " 5   style                    77071 non-null  object\n",
      " 6   reviewerName             77071 non-null  object\n",
      " 7   reviewText               77071 non-null  object\n",
      " 8   summary                  77071 non-null  object\n",
      " 9   unixReviewTime           77071 non-null  int64 \n",
      " 10  vote                     77071 non-null  object\n",
      " 11  image                    77071 non-null  object\n",
      " 12  reviewText_length_words  77071 non-null  int64 \n",
      " 13  reviewText_length_chars  77071 non-null  int64 \n",
      "dtypes: bool(1), int64(4), object(9)\n",
      "memory usage: 7.7+ MB\n"
     ]
    }
   ],
   "source": [
    "data_without_nan.info()"
   ]
  },
  {
   "cell_type": "code",
   "execution_count": 33,
   "id": "75d8eccc-e5de-425f-a98b-3b2f716a13da",
   "metadata": {},
   "outputs": [],
   "source": [
    "review_lenths = []\n",
    "\n",
    "for review in data_without_nan[\"reviewText\"]:\n",
    "    len_review = len(review.split())\n",
    "    review_lenths.append(len_review)"
   ]
  },
  {
   "cell_type": "code",
   "execution_count": 34,
   "id": "2651be91-a97b-4535-8ccf-cb96fb337c18",
   "metadata": {},
   "outputs": [
    {
     "data": {
      "text/plain": [
       "5966"
      ]
     },
     "execution_count": 34,
     "metadata": {},
     "output_type": "execute_result"
    }
   ],
   "source": [
    "max(review_lenths)"
   ]
  },
  {
   "cell_type": "code",
   "execution_count": 35,
   "id": "ecacecc8-c07d-444b-b222-6b5a953934b8",
   "metadata": {},
   "outputs": [
    {
     "data": {
      "text/plain": [
       "0"
      ]
     },
     "execution_count": 35,
     "metadata": {},
     "output_type": "execute_result"
    }
   ],
   "source": [
    "min(review_lenths)"
   ]
  },
  {
   "cell_type": "code",
   "execution_count": 36,
   "id": "8498f5bf-8197-483c-8882-6adeb8d6c01b",
   "metadata": {},
   "outputs": [],
   "source": [
    "# f. Analyze lengths"
   ]
  },
  {
   "cell_type": "code",
   "execution_count": 37,
   "id": "75b12966-9a2c-420e-aca7-bc906e3e26b2",
   "metadata": {},
   "outputs": [
    {
     "data": {
      "image/png": "[encoded data removed]",
      "text/plain": [
       "<Figure size 800x500 with 1 Axes>"
      ]
     },
     "metadata": {},
     "output_type": "display_data"
    }
   ],
   "source": [
    "plt.figure(figsize=(8, 5))\n",
    "plt.hist(review_lenths)\n",
    "plt.xlabel('Lenth of Reviews')\n",
    "plt.ylabel('Count Reviews')\n",
    "plt.title('Reviews Count of Each User Distribution')\n",
    "plt.show()"
   ]
  },
  {
   "cell_type": "code",
   "execution_count": 38,
   "id": "fbe797e7-0226-420a-9371-2346a8ba5a17",
   "metadata": {},
   "outputs": [
    {
     "data": {
      "text/plain": [
       "44.16502964798692"
      ]
     },
     "execution_count": 38,
     "metadata": {},
     "output_type": "execute_result"
    }
   ],
   "source": [
    "np.mean(review_lenths)"
   ]
  },
  {
   "cell_type": "code",
   "execution_count": 39,
   "id": "1ee709c7-bbc6-45fa-af5b-c5562591925f",
   "metadata": {},
   "outputs": [],
   "source": [
    "from collections import Counter"
   ]
  },
  {
   "cell_type": "code",
   "execution_count": 40,
   "id": "cc776b38-9e3a-4902-aa93-54be8523398d",
   "metadata": {
    "scrolled": true
   },
   "outputs": [
    {
     "name": "stdout",
     "output_type": "stream",
     "text": [
      "Counter({2: 6636, 1: 3859, 4: 3314, 3: 2960, 5: 2860, 6: 2679, 7: 2327, 8: 1969, 9: 1760, 10: 1547, 11: 1546, 12: 1375, 20: 1214, 14: 1184, 13: 1179, 15: 1169, 21: 1143, 16: 1073, 22: 1042, 17: 962, 18: 951, 23: 932, 24: 918, 19: 897, 25: 831, 28: 784, 27: 732, 26: 721, 30: 680, 29: 680, 31: 655, 33: 626, 32: 611, 34: 590, 36: 554, 35: 503, 37: 487, 40: 480, 38: 480, 39: 477, 41: 448, 43: 429, 45: 427, 42: 423, 46: 406, 44: 400, 47: 378, 49: 368, 48: 354, 52: 322, 50: 322, 51: 321, 59: 307, 53: 299, 55: 291, 56: 277, 54: 275, 57: 269, 63: 263, 61: 263, 62: 252, 58: 251, 64: 245, 60: 240, 66: 235, 65: 229, 70: 226, 67: 218, 69: 215, 72: 212, 73: 201, 74: 197, 68: 197, 71: 184, 78: 184, 83: 176, 77: 175, 76: 170, 75: 163, 80: 159, 81: 153, 82: 151, 89: 148, 86: 147, 93: 143, 88: 143, 84: 142, 85: 138, 90: 137, 79: 137, 91: 137, 87: 134, 98: 131, 92: 128, 96: 125, 95: 118, 94: 117, 103: 117, 102: 116, 100: 115, 99: 110, 101: 109, 105: 106, 97: 96, 106: 93, 107: 92, 104: 89, 111: 88, 114: 88, 110: 88, 119: 87, 109: 85, 124: 83, 108: 81, 118: 80, 112: 80, 127: 80, 115: 79, 117: 79, 122: 76, 128: 75, 116: 75, 147: 74, 134: 71, 120: 69, 125: 69, 132: 69, 133: 66, 121: 65, 130: 65, 148: 64, 135: 64, 113: 62, 138: 61, 126: 61, 149: 60, 143: 60, 139: 59, 123: 59, 129: 56, 154: 55, 140: 54, 150: 53, 144: 52, 136: 52, 131: 51, 137: 50, 151: 50, 152: 49, 141: 48, 145: 47, 172: 46, 167: 42, 142: 42, 146: 42, 166: 41, 162: 41, 157: 41, 165: 40, 184: 40, 175: 39, 208: 39, 160: 39, 158: 38, 155: 38, 159: 38, 168: 37, 227: 37, 187: 35, 163: 35, 182: 35, 164: 35, 153: 34, 192: 34, 170: 34, 161: 33, 173: 33, 179: 33, 156: 33, 174: 33, 169: 32, 194: 30, 183: 30, 176: 29, 199: 28, 178: 28, 189: 27, 185: 27, 177: 27, 180: 26, 196: 26, 217: 26, 224: 25, 186: 25, 205: 25, 181: 25, 210: 25, 211: 24, 188: 24, 195: 24, 171: 24, 201: 24, 202: 24, 228: 23, 204: 23, 197: 23, 191: 23, 213: 23, 206: 23, 200: 22, 193: 22, 218: 22, 216: 22, 214: 22, 268: 21, 190: 21, 215: 21, 245: 20, 248: 20, 240: 20, 220: 20, 235: 19, 221: 19, 207: 19, 260: 18, 244: 18, 232: 18, 198: 17, 209: 16, 203: 16, 254: 16, 301: 16, 252: 16, 219: 16, 242: 16, 226: 16, 233: 15, 284: 15, 223: 15, 238: 15, 212: 15, 265: 15, 278: 15, 251: 15, 230: 15, 247: 14, 262: 14, 234: 14, 320: 14, 246: 14, 225: 13, 275: 13, 264: 12, 258: 12, 271: 12, 373: 12, 280: 12, 253: 12, 239: 12, 293: 12, 257: 12, 263: 12, 261: 12, 272: 12, 231: 11, 0: 11, 281: 11, 299: 11, 236: 11, 222: 11, 269: 11, 241: 11, 323: 10, 326: 10, 334: 10, 375: 10, 348: 10, 347: 10, 259: 10, 382: 10, 345: 10, 277: 10, 249: 10, 287: 10, 276: 10, 250: 10, 349: 10, 338: 10, 317: 9, 346: 9, 355: 9, 315: 9, 270: 9, 296: 9, 274: 9, 291: 9, 403: 9, 319: 9, 255: 8, 362: 8, 229: 8, 300: 8, 369: 8, 351: 8, 383: 8, 316: 8, 267: 8, 328: 8, 289: 8, 266: 8, 243: 8, 341: 8, 273: 8, 361: 8, 411: 8, 283: 8, 294: 7, 395: 7, 298: 7, 288: 7, 364: 7, 448: 7, 237: 7, 308: 7, 313: 7, 365: 7, 324: 7, 463: 7, 416: 7, 379: 7, 304: 7, 282: 7, 256: 7, 332: 7, 310: 7, 290: 7, 295: 7, 570: 7, 285: 7, 322: 6, 356: 6, 306: 6, 478: 6, 336: 6, 297: 6, 311: 6, 337: 6, 432: 6, 410: 6, 401: 6, 305: 6, 327: 6, 314: 6, 360: 6, 521: 6, 286: 6, 309: 6, 358: 6, 279: 5, 343: 5, 335: 5, 357: 5, 325: 5, 353: 5, 409: 5, 363: 5, 471: 5, 394: 5, 344: 5, 378: 5, 354: 5, 292: 5, 425: 5, 423: 5, 396: 5, 526: 5, 525: 5, 404: 5, 359: 5, 312: 5, 418: 5, 391: 5, 431: 5, 307: 5, 399: 5, 453: 5, 302: 5, 528: 5, 367: 5, 636: 5, 368: 5, 333: 5, 380: 5, 400: 5, 512: 4, 444: 4, 433: 4, 436: 4, 607: 4, 428: 4, 339: 4, 464: 4, 412: 4, 352: 4, 472: 4, 537: 4, 441: 4, 329: 4, 498: 4, 424: 4, 385: 4, 386: 4, 452: 4, 532: 4, 303: 4, 469: 4, 417: 4, 485: 4, 507: 4, 429: 4, 445: 4, 426: 4, 420: 4, 484: 3, 330: 3, 321: 3, 497: 3, 439: 3, 588: 3, 594: 3, 564: 3, 461: 3, 466: 3, 477: 3, 639: 3, 554: 3, 699: 3, 496: 3, 366: 3, 350: 3, 374: 3, 587: 3, 462: 3, 657: 3, 495: 3, 660: 3, 393: 3, 446: 3, 602: 3, 603: 3, 700: 3, 435: 3, 456: 3, 503: 3, 604: 3, 392: 3, 407: 3, 470: 3, 414: 3, 371: 3, 390: 3, 376: 3, 413: 3, 506: 3, 387: 3, 556: 3, 372: 3, 388: 3, 716: 3, 627: 3, 488: 3, 455: 3, 342: 3, 440: 3, 509: 3, 550: 3, 625: 3, 421: 3, 505: 3, 491: 3, 473: 3, 672: 3, 415: 3, 798: 3, 582: 3, 370: 3, 438: 3, 489: 3, 492: 3, 543: 3, 377: 3, 381: 3, 855: 3, 813: 3, 479: 3, 730: 2, 447: 2, 1112: 2, 633: 2, 725: 2, 741: 2, 750: 2, 583: 2, 634: 2, 600: 2, 430: 2, 721: 2, 501: 2, 646: 2, 561: 2, 1386: 2, 538: 2, 533: 2, 536: 2, 406: 2, 697: 2, 685: 2, 874: 2, 724: 2, 772: 2, 775: 2, 1168: 2, 2780: 2, 5966: 2, 331: 2, 408: 2, 557: 2, 664: 2, 318: 2, 514: 2, 458: 2, 668: 2, 841: 2, 595: 2, 434: 2, 652: 2, 1583: 2, 873: 2, 517: 2, 805: 2, 745: 2, 964: 2, 531: 2, 1105: 2, 451: 2, 459: 2, 493: 2, 340: 2, 601: 2, 694: 2, 641: 2, 548: 2, 562: 2, 624: 2, 549: 2, 535: 2, 474: 2, 615: 2, 546: 2, 691: 2, 1139: 2, 614: 2, 678: 2, 623: 2, 592: 2, 734: 2, 449: 2, 494: 2, 527: 2, 574: 2, 943: 2, 419: 2, 753: 2, 710: 2, 647: 2, 648: 2, 638: 2, 681: 2, 712: 2, 610: 2, 693: 2, 454: 2, 457: 2, 530: 2, 696: 2, 584: 2, 427: 2, 389: 2, 1573: 1, 1114: 1, 1161: 1, 666: 1, 608: 1, 920: 1, 2763: 1, 2445: 1, 877: 1, 384: 1, 808: 1, 746: 1, 1499: 1, 731: 1, 552: 1, 490: 1, 553: 1, 849: 1, 695: 1, 558: 1, 422: 1, 932: 1, 780: 1, 1258: 1, 1317: 1, 885: 1, 828: 1, 571: 1, 1490: 1, 784: 1, 713: 1, 560: 1, 630: 1, 2598: 1, 703: 1, 1068: 1, 679: 1, 967: 1, 483: 1, 443: 1, 995: 1, 1026: 1, 618: 1, 649: 1, 5875: 1, 726: 1, 586: 1, 486: 1, 1121: 1, 1075: 1, 783: 1, 706: 1, 653: 1, 789: 1, 590: 1, 763: 1, 1625: 1, 832: 1, 824: 1, 717: 1, 1394: 1, 1479: 1, 893: 1, 597: 1, 437: 1, 773: 1, 654: 1, 845: 1, 598: 1, 1796: 1, 1216: 1, 460: 1, 522: 1, 698: 1, 599: 1, 450: 1, 2148: 1, 1452: 1, 629: 1, 659: 1, 1412: 1, 1189: 1, 836: 1, 567: 1, 764: 1, 1183: 1, 683: 1, 524: 1, 835: 1, 953: 1, 635: 1, 1815: 1, 1099: 1, 794: 1, 1463: 1, 1002: 1, 674: 1, 1197: 1, 3639: 1, 499: 1, 812: 1, 1287: 1, 566: 1, 1489: 1, 632: 1, 609: 1, 1290: 1, 405: 1, 682: 1, 2027: 1, 572: 1, 901: 1, 621: 1, 2153: 1, 897: 1, 1060: 1, 640: 1, 2636: 1, 397: 1, 3302: 1, 596: 1, 476: 1, 686: 1, 952: 1, 593: 1, 1119: 1, 541: 1, 1695: 1, 896: 1, 776: 1, 1145: 1, 581: 1, 852: 1, 795: 1, 475: 1, 670: 1, 1041: 1, 722: 1, 1131: 1, 1033: 1, 577: 1, 1372: 1, 519: 1, 568: 1, 651: 1, 540: 1, 702: 1, 3722: 1, 913: 1, 1203: 1, 1653: 1, 1397: 1, 1595: 1, 2143: 1, 751: 1, 823: 1, 642: 1, 922: 1, 658: 1, 767: 1, 756: 1, 2443: 1, 1302: 1, 882: 1, 1160: 1, 946: 1, 1337: 1, 2582: 1, 853: 1, 650: 1, 2034: 1, 611: 1, 551: 1, 684: 1, 579: 1, 711: 1, 1851: 1, 941: 1, 747: 1, 861: 1, 1656: 1, 754: 1, 402: 1, 487: 1, 617: 1, 667: 1, 931: 1, 523: 1, 1071: 1, 1195: 1, 811: 1, 1646: 1, 644: 1, 643: 1, 569: 1, 1326: 1, 504: 1, 398: 1, 662: 1, 704: 1, 508: 1, 769: 1, 762: 1, 975: 1, 1152: 1, 442: 1, 1671: 1, 1057: 1, 619: 1, 626: 1, 1877: 1, 723: 1, 518: 1, 816: 1, 991: 1, 1171: 1, 565: 1, 809: 1, 1222: 1, 680: 1, 980: 1, 1014: 1, 714: 1, 628: 1, 1673: 1, 589: 1, 1003: 1, 732: 1, 511: 1, 637: 1, 690: 1, 544: 1, 1731: 1})\n"
     ]
    }
   ],
   "source": [
    "print(Counter(review_lenths))"
   ]
  },
  {
   "cell_type": "code",
   "execution_count": 41,
   "id": "316a75ae-f116-4702-b3c2-507d2580db55",
   "metadata": {},
   "outputs": [
    {
     "data": {
      "text/plain": [
       "ModeResult(mode=2, count=6636)"
      ]
     },
     "execution_count": 41,
     "metadata": {},
     "output_type": "execute_result"
    }
   ],
   "source": [
    "from scipy import stats\n",
    "\n",
    "stats.mode(review_lenths)"
   ]
  },
  {
   "cell_type": "code",
   "execution_count": 42,
   "id": "d5bb336d-4ab6-44d6-a446-5a16e14cd7fb",
   "metadata": {},
   "outputs": [],
   "source": [
    "# g. Check for duplicates"
   ]
  },
  {
   "cell_type": "code",
   "execution_count": 43,
   "id": "be852328-76f7-4ae8-820c-4e8a00ca261b",
   "metadata": {},
   "outputs": [
    {
     "data": {
      "text/plain": [
       "0        This worked really well for what I used it for...\n",
       "1                         Fast cutting and good adheasive.\n",
       "2        Worked great for my lapping bench.  I would li...\n",
       "3                                            As advertised\n",
       "4        seems like a pretty good value as opposed to b...\n",
       "                               ...                        \n",
       "77066    So far it has worked like a champ. Great solut...\n",
       "77067    Great quality solid state relay. I used this s...\n",
       "77068    Came with everything needed to install in my M...\n",
       "77069    Installed a month ago in my Monoprice Maker Se...\n",
       "77070    This releaves the mothere board of the current...\n",
       "Name: reviewText, Length: 77071, dtype: object"
      ]
     },
     "execution_count": 43,
     "metadata": {},
     "output_type": "execute_result"
    }
   ],
   "source": [
    "data_without_nan['reviewText']"
   ]
  },
  {
   "cell_type": "code",
   "execution_count": 44,
   "id": "dcb000fe-c624-45ec-a684-73824af8d521",
   "metadata": {},
   "outputs": [],
   "source": [
    "duplicated_bool = data_without_nan.duplicated(subset='reviewText', keep='first')"
   ]
  },
  {
   "cell_type": "code",
   "execution_count": 45,
   "id": "b0fa68b7-65eb-4302-823a-b49d7c3bf3da",
   "metadata": {},
   "outputs": [
    {
     "data": {
      "text/plain": [
       "Counter({False: 58331, True: 18740})"
      ]
     },
     "execution_count": 45,
     "metadata": {},
     "output_type": "execute_result"
    }
   ],
   "source": [
    "Counter(duplicated_bool)"
   ]
  },
  {
   "cell_type": "code",
   "execution_count": 46,
   "id": "40439c3c-130d-4e45-93fe-aa21724f39a5",
   "metadata": {},
   "outputs": [],
   "source": [
    "duplicated_bool_product_reviews = data_without_nan.duplicated(subset=['reviewText','asin'], keep='first')"
   ]
  },
  {
   "cell_type": "code",
   "execution_count": 47,
   "id": "dc846fc3-614c-464a-8aba-378e396ff629",
   "metadata": {},
   "outputs": [
    {
     "data": {
      "text/plain": [
       "Counter({False: 72432, True: 4639})"
      ]
     },
     "execution_count": 47,
     "metadata": {},
     "output_type": "execute_result"
    }
   ],
   "source": [
    "Counter(duplicated_bool_product_reviews)"
   ]
  },
  {
   "cell_type": "code",
   "execution_count": 48,
   "id": "e0d9784f-0e79-4aed-9fe2-f7177803750b",
   "metadata": {},
   "outputs": [],
   "source": [
    "duplicated_bool_p_r_ID = data_without_nan.duplicated(subset=['reviewText','asin','reviewerID'], keep='first')"
   ]
  },
  {
   "cell_type": "code",
   "execution_count": 49,
   "id": "9876117b-5362-413e-b28a-1968d4198018",
   "metadata": {},
   "outputs": [
    {
     "data": {
      "text/plain": [
       "Counter({False: 72688, True: 4383})"
      ]
     },
     "execution_count": 49,
     "metadata": {},
     "output_type": "execute_result"
    }
   ],
   "source": [
    "Counter(duplicated_bool_p_r_ID)"
   ]
  },
  {
   "cell_type": "code",
   "execution_count": 50,
   "id": "b41f175b-88c8-4dd1-9687-075444211469",
   "metadata": {},
   "outputs": [],
   "source": [
    "duplicated_bool_p_r_ID_o = data_without_nan.duplicated(subset=['reviewText','asin','reviewerID','overall'], keep='first')"
   ]
  },
  {
   "cell_type": "code",
   "execution_count": 51,
   "id": "348cafff-a052-43af-9095-2b8b8b7fe35b",
   "metadata": {},
   "outputs": [
    {
     "data": {
      "text/plain": [
       "Counter({False: 72691, True: 4380})"
      ]
     },
     "execution_count": 51,
     "metadata": {},
     "output_type": "execute_result"
    }
   ],
   "source": [
    "Counter(duplicated_bool_p_r_ID_o)"
   ]
  },
  {
   "cell_type": "code",
   "execution_count": 52,
   "id": "8654f53d-f6e2-47f1-a389-eff797bb9c84",
   "metadata": {},
   "outputs": [],
   "source": [
    "duplicated_bool_p_r_ID_o_n = data_without_nan.duplicated(subset=['reviewText','asin','reviewerID','overall','reviewerName'], keep='first')"
   ]
  },
  {
   "cell_type": "code",
   "execution_count": 53,
   "id": "eb5c08b3-3278-4656-b01b-7dd5ca601eeb",
   "metadata": {},
   "outputs": [
    {
     "data": {
      "text/plain": [
       "Counter({False: 72691, True: 4380})"
      ]
     },
     "execution_count": 53,
     "metadata": {},
     "output_type": "execute_result"
    }
   ],
   "source": [
    "Counter(duplicated_bool_p_r_ID_o_n)"
   ]
  },
  {
   "cell_type": "code",
   "execution_count": 54,
   "id": "3b33695e-37c1-4cf8-be88-10841a2462e7",
   "metadata": {},
   "outputs": [],
   "source": [
    "duplicated_bool_p_r_ID_o_n_rt = data_without_nan.duplicated(subset=['reviewText','asin','reviewerID','overall','reviewerName','reviewTime'], keep='first')"
   ]
  },
  {
   "cell_type": "code",
   "execution_count": 55,
   "id": "2a5c2a89-5c47-499b-a90f-e482b16587a4",
   "metadata": {},
   "outputs": [
    {
     "data": {
      "text/plain": [
       "Counter({False: 72701, True: 4370})"
      ]
     },
     "execution_count": 55,
     "metadata": {},
     "output_type": "execute_result"
    }
   ],
   "source": [
    "Counter(duplicated_bool_p_r_ID_o_n_rt)"
   ]
  },
  {
   "cell_type": "code",
   "execution_count": 56,
   "id": "7a7db6d4-b8e2-4902-84ce-93d52b68b393",
   "metadata": {},
   "outputs": [],
   "source": [
    "duplicated_bool_p_r_ID_o_n_rt_urt = data_without_nan.duplicated(subset=['reviewText','asin','reviewerID','overall','reviewerName','reviewTime','unixReviewTime'], keep='first')"
   ]
  },
  {
   "cell_type": "code",
   "execution_count": 57,
   "id": "162bc206-dc64-460d-b6d6-9bd2ee2a5d6e",
   "metadata": {},
   "outputs": [
    {
     "data": {
      "text/plain": [
       "Counter({False: 72701, True: 4370})"
      ]
     },
     "execution_count": 57,
     "metadata": {},
     "output_type": "execute_result"
    }
   ],
   "source": [
    "Counter(duplicated_bool_p_r_ID_o_n_rt_urt)"
   ]
  },
  {
   "cell_type": "code",
   "execution_count": 58,
   "id": "695ad555-3107-4c77-83fa-ae9addab1079",
   "metadata": {},
   "outputs": [],
   "source": [
    "#keep first\n",
    "data_without_nan_unique = data_without_nan.drop_duplicates(\n",
    "    subset=['reviewText', 'asin', 'reviewerID', 'overall', 'reviewerName', 'reviewTime', 'unixReviewTime'], \n",
    "    keep='first'\n",
    ")"
   ]
  },
  {
   "cell_type": "code",
   "execution_count": 59,
   "id": "e9369609-ab06-4b6e-9de2-c35c21dc380c",
   "metadata": {},
   "outputs": [
    {
     "name": "stdout",
     "output_type": "stream",
     "text": [
      "(72701, 14)\n"
     ]
    }
   ],
   "source": [
    "print(data_without_nan_unique.shape)"
   ]
  },
  {
   "cell_type": "code",
   "execution_count": 60,
   "id": "dc18c2ec-58ae-4911-90dc-9ea9bcb81472",
   "metadata": {},
   "outputs": [
    {
     "data": {
      "text/plain": [
       "'\\n2. Text basic pre-processing:\\na.Label your data based on the value of “rating of the product” i.e. as follows:\\ni.Ratings 4,5: Positive\\nii.Rating 3: Neutral\\niii.Ratings 1,2: Negative\\n'"
      ]
     },
     "execution_count": 60,
     "metadata": {},
     "output_type": "execute_result"
    }
   ],
   "source": [
    "\"\"\"\n",
    "2. Text basic pre-processing:\n",
    "a.Label your data based on the value of “rating of the product” i.e. as follows:\n",
    "i.Ratings 4,5: Positive\n",
    "ii.Rating 3: Neutral\n",
    "iii.Ratings 1,2: Negative\n",
    "\"\"\""
   ]
  },
  {
   "cell_type": "code",
   "execution_count": 61,
   "id": "127f028e-5072-4d7f-958f-fd40844c4867",
   "metadata": {},
   "outputs": [],
   "source": [
    "data_with_label = data_without_nan_unique"
   ]
  },
  {
   "cell_type": "code",
   "execution_count": 62,
   "id": "bffed712-c521-44cf-a6da-b64a3e8d4506",
   "metadata": {},
   "outputs": [
    {
     "name": "stderr",
     "output_type": "stream",
     "text": [
      "/var/folders/60/83kzkx2x4hs5zc8lx2tyc8lw0000gn/T/ipykernel_97895/2880495742.py:11: SettingWithCopyWarning: \n",
      "A value is trying to be set on a copy of a slice from a DataFrame.\n",
      "Try using .loc[row_indexer,col_indexer] = value instead\n",
      "\n",
      "See the caveats in the documentation: https://pandas.pydata.org/pandas-docs/stable/user_guide/indexing.html#returning-a-view-versus-a-copy\n",
      "  data_with_label['label'] = label\n"
     ]
    }
   ],
   "source": [
    "label= []\n",
    "\n",
    "for i,row in data_with_label.iterrows():\n",
    "    if row['overall'] >= 4.0:\n",
    "        label = \"Positive\"\n",
    "    elif row['overall'] <= 1.0:\n",
    "        label = \"Negative\"\n",
    "    else:\n",
    "        label = \"Neutral\"\n",
    "        \n",
    "data_with_label['label'] = label"
   ]
  },
  {
   "cell_type": "code",
   "execution_count": 63,
   "id": "1d9a1858-8149-4b94-9db2-af36ba52cd98",
   "metadata": {
    "scrolled": true
   },
   "outputs": [
    {
     "data": {
      "text/html": [
       "<div>\n",
       "<style scoped>\n",
       "    .dataframe tbody tr th:only-of-type {\n",
       "        vertical-align: middle;\n",
       "    }\n",
       "\n",
       "    .dataframe tbody tr th {\n",
       "        vertical-align: top;\n",
       "    }\n",
       "\n",
       "    .dataframe thead th {\n",
       "        text-align: right;\n",
       "    }\n",
       "</style>\n",
       "<table border=\"1\" class=\"dataframe\">\n",
       "  <thead>\n",
       "    <tr style=\"text-align: right;\">\n",
       "      <th></th>\n",
       "      <th>overall</th>\n",
       "      <th>verified</th>\n",
       "      <th>reviewTime</th>\n",
       "      <th>reviewerID</th>\n",
       "      <th>asin</th>\n",
       "      <th>style</th>\n",
       "      <th>reviewerName</th>\n",
       "      <th>reviewText</th>\n",
       "      <th>summary</th>\n",
       "      <th>unixReviewTime</th>\n",
       "      <th>vote</th>\n",
       "      <th>image</th>\n",
       "      <th>reviewText_length_words</th>\n",
       "      <th>reviewText_length_chars</th>\n",
       "      <th>label</th>\n",
       "    </tr>\n",
       "  </thead>\n",
       "  <tbody>\n",
       "    <tr>\n",
       "      <th>0</th>\n",
       "      <td>5</td>\n",
       "      <td>True</td>\n",
       "      <td>11 27, 2017</td>\n",
       "      <td>A1JB7HFWHRYHT7</td>\n",
       "      <td>B0000223SI</td>\n",
       "      <td>{'Size:': ' 1-(Pack)'}</td>\n",
       "      <td>Alex W.</td>\n",
       "      <td>This worked really well for what I used it for...</td>\n",
       "      <td>Couldn't have been happier with it's performance</td>\n",
       "      <td>1511740800</td>\n",
       "      <td></td>\n",
       "      <td></td>\n",
       "      <td>71</td>\n",
       "      <td>393</td>\n",
       "      <td>Positive</td>\n",
       "    </tr>\n",
       "    <tr>\n",
       "      <th>1</th>\n",
       "      <td>5</td>\n",
       "      <td>True</td>\n",
       "      <td>11 4, 2017</td>\n",
       "      <td>A2FCLJG5GV8SD6</td>\n",
       "      <td>B0000223SI</td>\n",
       "      <td>{'Size:': ' 1-(Pack)'}</td>\n",
       "      <td>Randall Harris</td>\n",
       "      <td>Fast cutting and good adheasive.</td>\n",
       "      <td>Good paper.</td>\n",
       "      <td>1509753600</td>\n",
       "      <td></td>\n",
       "      <td></td>\n",
       "      <td>5</td>\n",
       "      <td>32</td>\n",
       "      <td>Positive</td>\n",
       "    </tr>\n",
       "    <tr>\n",
       "      <th>2</th>\n",
       "      <td>5</td>\n",
       "      <td>False</td>\n",
       "      <td>10 27, 2017</td>\n",
       "      <td>A3IT9B33NWYQSL</td>\n",
       "      <td>B0000223SI</td>\n",
       "      <td>{'Size:': ' 1-(Pack)'}</td>\n",
       "      <td>A. C.</td>\n",
       "      <td>Worked great for my lapping bench.  I would li...</td>\n",
       "      <td>Handy!</td>\n",
       "      <td>1509062400</td>\n",
       "      <td></td>\n",
       "      <td></td>\n",
       "      <td>46</td>\n",
       "      <td>243</td>\n",
       "      <td>Positive</td>\n",
       "    </tr>\n",
       "    <tr>\n",
       "      <th>3</th>\n",
       "      <td>4</td>\n",
       "      <td>True</td>\n",
       "      <td>01 13, 2018</td>\n",
       "      <td>AUL5LCV4TT73P</td>\n",
       "      <td>B0000223SK</td>\n",
       "      <td>{'Size:': ' 1-Pack'}</td>\n",
       "      <td>TnT</td>\n",
       "      <td>As advertised</td>\n",
       "      <td>As advertised</td>\n",
       "      <td>1515801600</td>\n",
       "      <td></td>\n",
       "      <td></td>\n",
       "      <td>2</td>\n",
       "      <td>13</td>\n",
       "      <td>Positive</td>\n",
       "    </tr>\n",
       "    <tr>\n",
       "      <th>4</th>\n",
       "      <td>5</td>\n",
       "      <td>True</td>\n",
       "      <td>10 7, 2017</td>\n",
       "      <td>A1V3I3L5JKO7TM</td>\n",
       "      <td>B0000223SK</td>\n",
       "      <td>{'Size:': ' 1-Pack'}</td>\n",
       "      <td>John Jones</td>\n",
       "      <td>seems like a pretty good value as opposed to b...</td>\n",
       "      <td>seems like a pretty good value as opposed to b...</td>\n",
       "      <td>1507334400</td>\n",
       "      <td></td>\n",
       "      <td></td>\n",
       "      <td>19</td>\n",
       "      <td>90</td>\n",
       "      <td>Positive</td>\n",
       "    </tr>\n",
       "  </tbody>\n",
       "</table>\n",
       "</div>"
      ],
      "text/plain": [
       "   overall  verified   reviewTime      reviewerID        asin  \\\n",
       "0        5      True  11 27, 2017  A1JB7HFWHRYHT7  B0000223SI   \n",
       "1        5      True   11 4, 2017  A2FCLJG5GV8SD6  B0000223SI   \n",
       "2        5     False  10 27, 2017  A3IT9B33NWYQSL  B0000223SI   \n",
       "3        4      True  01 13, 2018   AUL5LCV4TT73P  B0000223SK   \n",
       "4        5      True   10 7, 2017  A1V3I3L5JKO7TM  B0000223SK   \n",
       "\n",
       "                    style    reviewerName  \\\n",
       "0  {'Size:': ' 1-(Pack)'}         Alex W.   \n",
       "1  {'Size:': ' 1-(Pack)'}  Randall Harris   \n",
       "2  {'Size:': ' 1-(Pack)'}           A. C.   \n",
       "3    {'Size:': ' 1-Pack'}             TnT   \n",
       "4    {'Size:': ' 1-Pack'}      John Jones   \n",
       "\n",
       "                                          reviewText  \\\n",
       "0  This worked really well for what I used it for...   \n",
       "1                   Fast cutting and good adheasive.   \n",
       "2  Worked great for my lapping bench.  I would li...   \n",
       "3                                      As advertised   \n",
       "4  seems like a pretty good value as opposed to b...   \n",
       "\n",
       "                                             summary  unixReviewTime vote  \\\n",
       "0   Couldn't have been happier with it's performance      1511740800        \n",
       "1                                        Good paper.      1509753600        \n",
       "2                                             Handy!      1509062400        \n",
       "3                                      As advertised      1515801600        \n",
       "4  seems like a pretty good value as opposed to b...      1507334400        \n",
       "\n",
       "  image  reviewText_length_words  reviewText_length_chars     label  \n",
       "0                             71                      393  Positive  \n",
       "1                              5                       32  Positive  \n",
       "2                             46                      243  Positive  \n",
       "3                              2                       13  Positive  \n",
       "4                             19                       90  Positive  "
      ]
     },
     "execution_count": 63,
     "metadata": {},
     "output_type": "execute_result"
    }
   ],
   "source": [
    "data_with_label.head()"
   ]
  },
  {
   "cell_type": "code",
   "execution_count": 64,
   "id": "cf536087-ffe6-4456-8f00-0d41dde596f6",
   "metadata": {},
   "outputs": [],
   "source": [
    "# Chose the appropriate columns for your sentiment analyzer. (Give this some thought) and mention in your report why you chose each column."
   ]
  },
  {
   "cell_type": "code",
   "execution_count": 65,
   "id": "fd49ec41-20cc-4d9a-942e-affe8a2b94d8",
   "metadata": {},
   "outputs": [],
   "source": [
    "data_for_sentiment_analyzer = data_with_label[['reviewText','summary','label']]"
   ]
  },
  {
   "cell_type": "code",
   "execution_count": 66,
   "id": "3fe20868-3087-4f49-8dc2-6c65b7889bb0",
   "metadata": {},
   "outputs": [
    {
     "data": {
      "text/html": [
       "<div>\n",
       "<style scoped>\n",
       "    .dataframe tbody tr th:only-of-type {\n",
       "        vertical-align: middle;\n",
       "    }\n",
       "\n",
       "    .dataframe tbody tr th {\n",
       "        vertical-align: top;\n",
       "    }\n",
       "\n",
       "    .dataframe thead th {\n",
       "        text-align: right;\n",
       "    }\n",
       "</style>\n",
       "<table border=\"1\" class=\"dataframe\">\n",
       "  <thead>\n",
       "    <tr style=\"text-align: right;\">\n",
       "      <th></th>\n",
       "      <th>reviewText</th>\n",
       "      <th>summary</th>\n",
       "      <th>label</th>\n",
       "    </tr>\n",
       "  </thead>\n",
       "  <tbody>\n",
       "    <tr>\n",
       "      <th>0</th>\n",
       "      <td>This worked really well for what I used it for...</td>\n",
       "      <td>Couldn't have been happier with it's performance</td>\n",
       "      <td>Positive</td>\n",
       "    </tr>\n",
       "    <tr>\n",
       "      <th>1</th>\n",
       "      <td>Fast cutting and good adheasive.</td>\n",
       "      <td>Good paper.</td>\n",
       "      <td>Positive</td>\n",
       "    </tr>\n",
       "    <tr>\n",
       "      <th>2</th>\n",
       "      <td>Worked great for my lapping bench.  I would li...</td>\n",
       "      <td>Handy!</td>\n",
       "      <td>Positive</td>\n",
       "    </tr>\n",
       "    <tr>\n",
       "      <th>3</th>\n",
       "      <td>As advertised</td>\n",
       "      <td>As advertised</td>\n",
       "      <td>Positive</td>\n",
       "    </tr>\n",
       "    <tr>\n",
       "      <th>4</th>\n",
       "      <td>seems like a pretty good value as opposed to b...</td>\n",
       "      <td>seems like a pretty good value as opposed to b...</td>\n",
       "      <td>Positive</td>\n",
       "    </tr>\n",
       "  </tbody>\n",
       "</table>\n",
       "</div>"
      ],
      "text/plain": [
       "                                          reviewText  \\\n",
       "0  This worked really well for what I used it for...   \n",
       "1                   Fast cutting and good adheasive.   \n",
       "2  Worked great for my lapping bench.  I would li...   \n",
       "3                                      As advertised   \n",
       "4  seems like a pretty good value as opposed to b...   \n",
       "\n",
       "                                             summary     label  \n",
       "0   Couldn't have been happier with it's performance  Positive  \n",
       "1                                        Good paper.  Positive  \n",
       "2                                             Handy!  Positive  \n",
       "3                                      As advertised  Positive  \n",
       "4  seems like a pretty good value as opposed to b...  Positive  "
      ]
     },
     "execution_count": 66,
     "metadata": {},
     "output_type": "execute_result"
    }
   ],
   "source": [
    "data_for_sentiment_analyzer.head()"
   ]
  },
  {
   "cell_type": "code",
   "execution_count": 67,
   "id": "43b31ea6-5ae9-4d4a-a460-1c3aa9c35a1b",
   "metadata": {},
   "outputs": [],
   "source": [
    "#c.Check for outliers"
   ]
  },
  {
   "cell_type": "code",
   "execution_count": 68,
   "id": "a53e891d-a1d6-410c-80a8-8c53893b373b",
   "metadata": {},
   "outputs": [
    {
     "name": "stderr",
     "output_type": "stream",
     "text": [
      "/var/folders/60/83kzkx2x4hs5zc8lx2tyc8lw0000gn/T/ipykernel_97895/2208887511.py:1: SettingWithCopyWarning: \n",
      "A value is trying to be set on a copy of a slice from a DataFrame.\n",
      "Try using .loc[row_indexer,col_indexer] = value instead\n",
      "\n",
      "See the caveats in the documentation: https://pandas.pydata.org/pandas-docs/stable/user_guide/indexing.html#returning-a-view-versus-a-copy\n",
      "  data_for_sentiment_analyzer['reviewText_length_words'] = data_for_sentiment_analyzer['reviewText'].apply(lambda x: len(str(x).split()))\n"
     ]
    }
   ],
   "source": [
    "data_for_sentiment_analyzer['reviewText_length_words'] = data_for_sentiment_analyzer['reviewText'].apply(lambda x: len(str(x).split()))"
   ]
  },
  {
   "cell_type": "code",
   "execution_count": 69,
   "id": "a14e7d9a-6d15-4a4c-91dc-79db1416568a",
   "metadata": {},
   "outputs": [
    {
     "data": {
      "text/plain": [
       "0        71\n",
       "1         5\n",
       "2        46\n",
       "3         2\n",
       "4        19\n",
       "         ..\n",
       "77066    15\n",
       "77067    29\n",
       "77068    33\n",
       "77069    31\n",
       "77070    16\n",
       "Name: reviewText_length_words, Length: 72701, dtype: int64"
      ]
     },
     "execution_count": 69,
     "metadata": {},
     "output_type": "execute_result"
    }
   ],
   "source": [
    "data_for_sentiment_analyzer['reviewText_length_words']"
   ]
  },
  {
   "cell_type": "code",
   "execution_count": 70,
   "id": "cb419899-8bb2-4c26-af94-2fe695325842",
   "metadata": {},
   "outputs": [
    {
     "name": "stdout",
     "output_type": "stream",
     "text": [
      "Number of outlier reviews: 7008\n"
     ]
    }
   ],
   "source": [
    "Q1 = data_for_sentiment_analyzer['reviewText_length_words'].quantile(0.25)\n",
    "Q3 = data_for_sentiment_analyzer['reviewText_length_words'].quantile(0.75)\n",
    "IQR = Q3 - Q1\n",
    "lower_bound = Q1 - 1.5 * IQR\n",
    "upper_bound = Q3 + 1.5 * IQR\n",
    "\n",
    "outliers = data_for_sentiment_analyzer[(data_for_sentiment_analyzer['reviewText_length_words'] < lower_bound) | (data_for_sentiment_analyzer['reviewText_length_words'] > upper_bound)]\n",
    "print(f'Number of outlier reviews: {len(outliers)}')"
   ]
  },
  {
   "cell_type": "code",
   "execution_count": 71,
   "id": "1f24e6b3-b45c-4478-a14f-aa381069eb0e",
   "metadata": {},
   "outputs": [
    {
     "data": {
      "image/png": "[encoded data removed]",
      "text/plain": [
       "<Figure size 1000x500 with 1 Axes>"
      ]
     },
     "metadata": {},
     "output_type": "display_data"
    }
   ],
   "source": [
    "plt.figure(figsize=(10,5))\n",
    "sns.boxplot(x=data_for_sentiment_analyzer['reviewText_length_words'])\n",
    "plt.title('Boxplot of review length (words)')\n",
    "plt.show()"
   ]
  },
  {
   "cell_type": "code",
   "execution_count": 72,
   "id": "8bbc860b-64f5-4709-8e20-78b026a86df2",
   "metadata": {},
   "outputs": [],
   "source": [
    "#3. Study the below three Lexicons packages and choose two for model building justify why you chose them:\n",
    "# VADR + TextBlob"
   ]
  },
  {
   "cell_type": "code",
   "execution_count": 73,
   "id": "e852c259-c3f7-43ca-937c-ee3b0d698e60",
   "metadata": {},
   "outputs": [],
   "source": [
    "#VADR\n",
    "#install VADR\n",
    "#conda install conda-forge::vadersentiment\n",
    "#or\n",
    "#pip install vaderSentiment"
   ]
  },
  {
   "cell_type": "code",
   "execution_count": 74,
   "id": "30657320-8c6e-418b-989b-8aafa1f09a1b",
   "metadata": {},
   "outputs": [],
   "source": [
    "#4. Pre-process your text as needed, justify each pre-processing step for each model you chose. \n",
    "# (Note: take into account the findings of step #3 above)"
   ]
  },
  {
   "cell_type": "code",
   "execution_count": 75,
   "id": "ad91afac-d11b-417d-965b-cac2fd096f00",
   "metadata": {},
   "outputs": [],
   "source": [
    "from vaderSentiment.vaderSentiment import SentimentIntensityAnalyzer\n",
    "#from vaderSentiment import SentimentIntensityAnalyzer"
   ]
  },
  {
   "cell_type": "code",
   "execution_count": 79,
   "id": "b9c890f8-673f-47fd-bf42-34d1094a8708",
   "metadata": {},
   "outputs": [
    {
     "name": "stderr",
     "output_type": "stream",
     "text": [
      "/var/folders/60/83kzkx2x4hs5zc8lx2tyc8lw0000gn/T/ipykernel_97895/215435576.py:1: SettingWithCopyWarning: \n",
      "A value is trying to be set on a copy of a slice from a DataFrame.\n",
      "Try using .loc[row_indexer,col_indexer] = value instead\n",
      "\n",
      "See the caveats in the documentation: https://pandas.pydata.org/pandas-docs/stable/user_guide/indexing.html#returning-a-view-versus-a-copy\n",
      "  data_for_sentiment_analyzer['full_text'] = data_for_sentiment_analyzer['summary']+\" \"+data_for_sentiment_analyzer['reviewText']\n"
     ]
    }
   ],
   "source": [
    "data_for_sentiment_analyzer['full_text'] = data_for_sentiment_analyzer['summary']+\" \"+data_for_sentiment_analyzer['reviewText']"
   ]
  },
  {
   "cell_type": "code",
   "execution_count": 82,
   "id": "42fbdc94-d3a9-4e2a-970a-6fc466787a08",
   "metadata": {},
   "outputs": [],
   "source": [
    "import re\n",
    "def clean_text(text):\n",
    "    text = re.sub(r'\\b[A-Za-z0-9._%+-]+@[A-Za-z0-9.-]+\\.[A-Za-z]{2,}\\b', '', text)\n",
    "    text = re.sub(r'http[s]?://\\S+|www\\.\\S+', '', text)\n",
    "    text = re.sub(r'[@#$%&*]', '', text)\n",
    "    text = re.sub(r'\\s+', ' ', text).strip()\n",
    "    return text"
   ]
  },
  {
   "cell_type": "code",
   "execution_count": 83,
   "id": "9b9daf10-530b-4788-8587-492c207551cc",
   "metadata": {},
   "outputs": [
    {
     "name": "stderr",
     "output_type": "stream",
     "text": [
      "/var/folders/60/83kzkx2x4hs5zc8lx2tyc8lw0000gn/T/ipykernel_97895/4202241456.py:1: SettingWithCopyWarning: \n",
      "A value is trying to be set on a copy of a slice from a DataFrame.\n",
      "Try using .loc[row_indexer,col_indexer] = value instead\n",
      "\n",
      "See the caveats in the documentation: https://pandas.pydata.org/pandas-docs/stable/user_guide/indexing.html#returning-a-view-versus-a-copy\n",
      "  data_for_sentiment_analyzer['full_clean'] = data_for_sentiment_analyzer['full_text'].apply(clean_text)\n"
     ]
    }
   ],
   "source": [
    "data_for_sentiment_analyzer['full_clean'] = data_for_sentiment_analyzer['full_text'].apply(clean_text)"
   ]
  },
  {
   "cell_type": "code",
   "execution_count": 84,
   "id": "12b4ff83-a422-4000-9946-ab285e70cce3",
   "metadata": {},
   "outputs": [
    {
     "data": {
      "text/html": [
       "<div>\n",
       "<style scoped>\n",
       "    .dataframe tbody tr th:only-of-type {\n",
       "        vertical-align: middle;\n",
       "    }\n",
       "\n",
       "    .dataframe tbody tr th {\n",
       "        vertical-align: top;\n",
       "    }\n",
       "\n",
       "    .dataframe thead th {\n",
       "        text-align: right;\n",
       "    }\n",
       "</style>\n",
       "<table border=\"1\" class=\"dataframe\">\n",
       "  <thead>\n",
       "    <tr style=\"text-align: right;\">\n",
       "      <th></th>\n",
       "      <th>reviewText</th>\n",
       "      <th>summary</th>\n",
       "      <th>label</th>\n",
       "      <th>reviewText_length_words</th>\n",
       "      <th>full_text</th>\n",
       "      <th>full_clean</th>\n",
       "    </tr>\n",
       "  </thead>\n",
       "  <tbody>\n",
       "    <tr>\n",
       "      <th>0</th>\n",
       "      <td>This worked really well for what I used it for...</td>\n",
       "      <td>Couldn't have been happier with it's performance</td>\n",
       "      <td>Positive</td>\n",
       "      <td>71</td>\n",
       "      <td>Couldn't have been happier with it's performan...</td>\n",
       "      <td>Couldn't have been happier with it's performan...</td>\n",
       "    </tr>\n",
       "    <tr>\n",
       "      <th>1</th>\n",
       "      <td>Fast cutting and good adheasive.</td>\n",
       "      <td>Good paper.</td>\n",
       "      <td>Positive</td>\n",
       "      <td>5</td>\n",
       "      <td>Good paper. Fast cutting and good adheasive.</td>\n",
       "      <td>Good paper. Fast cutting and good adheasive.</td>\n",
       "    </tr>\n",
       "    <tr>\n",
       "      <th>2</th>\n",
       "      <td>Worked great for my lapping bench.  I would li...</td>\n",
       "      <td>Handy!</td>\n",
       "      <td>Positive</td>\n",
       "      <td>46</td>\n",
       "      <td>Handy! Worked great for my lapping bench.  I w...</td>\n",
       "      <td>Handy! Worked great for my lapping bench. I wo...</td>\n",
       "    </tr>\n",
       "    <tr>\n",
       "      <th>3</th>\n",
       "      <td>As advertised</td>\n",
       "      <td>As advertised</td>\n",
       "      <td>Positive</td>\n",
       "      <td>2</td>\n",
       "      <td>As advertised As advertised</td>\n",
       "      <td>As advertised As advertised</td>\n",
       "    </tr>\n",
       "    <tr>\n",
       "      <th>4</th>\n",
       "      <td>seems like a pretty good value as opposed to b...</td>\n",
       "      <td>seems like a pretty good value as opposed to b...</td>\n",
       "      <td>Positive</td>\n",
       "      <td>19</td>\n",
       "      <td>seems like a pretty good value as opposed to b...</td>\n",
       "      <td>seems like a pretty good value as opposed to b...</td>\n",
       "    </tr>\n",
       "  </tbody>\n",
       "</table>\n",
       "</div>"
      ],
      "text/plain": [
       "                                          reviewText  \\\n",
       "0  This worked really well for what I used it for...   \n",
       "1                   Fast cutting and good adheasive.   \n",
       "2  Worked great for my lapping bench.  I would li...   \n",
       "3                                      As advertised   \n",
       "4  seems like a pretty good value as opposed to b...   \n",
       "\n",
       "                                             summary     label  \\\n",
       "0   Couldn't have been happier with it's performance  Positive   \n",
       "1                                        Good paper.  Positive   \n",
       "2                                             Handy!  Positive   \n",
       "3                                      As advertised  Positive   \n",
       "4  seems like a pretty good value as opposed to b...  Positive   \n",
       "\n",
       "   reviewText_length_words                                          full_text  \\\n",
       "0                       71  Couldn't have been happier with it's performan...   \n",
       "1                        5       Good paper. Fast cutting and good adheasive.   \n",
       "2                       46  Handy! Worked great for my lapping bench.  I w...   \n",
       "3                        2                        As advertised As advertised   \n",
       "4                       19  seems like a pretty good value as opposed to b...   \n",
       "\n",
       "                                          full_clean  \n",
       "0  Couldn't have been happier with it's performan...  \n",
       "1       Good paper. Fast cutting and good adheasive.  \n",
       "2  Handy! Worked great for my lapping bench. I wo...  \n",
       "3                        As advertised As advertised  \n",
       "4  seems like a pretty good value as opposed to b...  "
      ]
     },
     "execution_count": 84,
     "metadata": {},
     "output_type": "execute_result"
    }
   ],
   "source": [
    "data_for_sentiment_analyzer.head()"
   ]
  },
  {
   "cell_type": "code",
   "execution_count": 85,
   "id": "7403c721-1243-4afa-bfa7-8c939c94d0ac",
   "metadata": {},
   "outputs": [],
   "source": [
    "data_for_sentiment_analyzer = data_for_sentiment_analyzer[['label', 'full_clean']]"
   ]
  },
  {
   "cell_type": "code",
   "execution_count": 86,
   "id": "4712a377-f845-49d0-b461-c059ec7ac199",
   "metadata": {},
   "outputs": [
    {
     "data": {
      "text/html": [
       "<div>\n",
       "<style scoped>\n",
       "    .dataframe tbody tr th:only-of-type {\n",
       "        vertical-align: middle;\n",
       "    }\n",
       "\n",
       "    .dataframe tbody tr th {\n",
       "        vertical-align: top;\n",
       "    }\n",
       "\n",
       "    .dataframe thead th {\n",
       "        text-align: right;\n",
       "    }\n",
       "</style>\n",
       "<table border=\"1\" class=\"dataframe\">\n",
       "  <thead>\n",
       "    <tr style=\"text-align: right;\">\n",
       "      <th></th>\n",
       "      <th>label</th>\n",
       "      <th>full_clean</th>\n",
       "    </tr>\n",
       "  </thead>\n",
       "  <tbody>\n",
       "    <tr>\n",
       "      <th>0</th>\n",
       "      <td>Positive</td>\n",
       "      <td>Couldn't have been happier with it's performan...</td>\n",
       "    </tr>\n",
       "    <tr>\n",
       "      <th>1</th>\n",
       "      <td>Positive</td>\n",
       "      <td>Good paper. Fast cutting and good adheasive.</td>\n",
       "    </tr>\n",
       "    <tr>\n",
       "      <th>2</th>\n",
       "      <td>Positive</td>\n",
       "      <td>Handy! Worked great for my lapping bench. I wo...</td>\n",
       "    </tr>\n",
       "    <tr>\n",
       "      <th>3</th>\n",
       "      <td>Positive</td>\n",
       "      <td>As advertised As advertised</td>\n",
       "    </tr>\n",
       "    <tr>\n",
       "      <th>4</th>\n",
       "      <td>Positive</td>\n",
       "      <td>seems like a pretty good value as opposed to b...</td>\n",
       "    </tr>\n",
       "  </tbody>\n",
       "</table>\n",
       "</div>"
      ],
      "text/plain": [
       "      label                                         full_clean\n",
       "0  Positive  Couldn't have been happier with it's performan...\n",
       "1  Positive       Good paper. Fast cutting and good adheasive.\n",
       "2  Positive  Handy! Worked great for my lapping bench. I wo...\n",
       "3  Positive                        As advertised As advertised\n",
       "4  Positive  seems like a pretty good value as opposed to b..."
      ]
     },
     "execution_count": 86,
     "metadata": {},
     "output_type": "execute_result"
    }
   ],
   "source": [
    "data_for_sentiment_analyzer.head()"
   ]
  },
  {
   "cell_type": "code",
   "execution_count": 87,
   "id": "d5899683-20e6-440e-837b-8941b670a565",
   "metadata": {},
   "outputs": [],
   "source": [
    "#5. Randomly select 1000 reviews from your dataset."
   ]
  },
  {
   "cell_type": "code",
   "execution_count": 88,
   "id": "8e38463c-cb80-40bc-8e1b-7b83e9829c49",
   "metadata": {},
   "outputs": [],
   "source": [
    "sampled_df = data_for_sentiment_analyzer.sample(n=1000, random_state=42)"
   ]
  },
  {
   "cell_type": "code",
   "execution_count": 89,
   "id": "6d35749a-13bf-4f57-ad7e-072b9c0eb9fc",
   "metadata": {},
   "outputs": [
    {
     "data": {
      "text/html": [
       "<div>\n",
       "<style scoped>\n",
       "    .dataframe tbody tr th:only-of-type {\n",
       "        vertical-align: middle;\n",
       "    }\n",
       "\n",
       "    .dataframe tbody tr th {\n",
       "        vertical-align: top;\n",
       "    }\n",
       "\n",
       "    .dataframe thead th {\n",
       "        text-align: right;\n",
       "    }\n",
       "</style>\n",
       "<table border=\"1\" class=\"dataframe\">\n",
       "  <thead>\n",
       "    <tr style=\"text-align: right;\">\n",
       "      <th></th>\n",
       "      <th>label</th>\n",
       "      <th>full_clean</th>\n",
       "    </tr>\n",
       "  </thead>\n",
       "  <tbody>\n",
       "    <tr>\n",
       "      <th>6057</th>\n",
       "      <td>Positive</td>\n",
       "      <td>Good Wife loves it for her polymer clay jewelr...</td>\n",
       "    </tr>\n",
       "    <tr>\n",
       "      <th>43836</th>\n",
       "      <td>Positive</td>\n",
       "      <td>Good choice for monitoring humidity inside a s...</td>\n",
       "    </tr>\n",
       "    <tr>\n",
       "      <th>24730</th>\n",
       "      <td>Positive</td>\n",
       "      <td>30 Bearing 608ZZ 8x22x7 Good quality, very fas...</td>\n",
       "    </tr>\n",
       "    <tr>\n",
       "      <th>62359</th>\n",
       "      <td>Positive</td>\n",
       "      <td>Use the red range to crimp smaller size wire i...</td>\n",
       "    </tr>\n",
       "    <tr>\n",
       "      <th>56222</th>\n",
       "      <td>Positive</td>\n",
       "      <td>Fabulous! This is the greatest little gizmo fo...</td>\n",
       "    </tr>\n",
       "  </tbody>\n",
       "</table>\n",
       "</div>"
      ],
      "text/plain": [
       "          label                                         full_clean\n",
       "6057   Positive  Good Wife loves it for her polymer clay jewelr...\n",
       "43836  Positive  Good choice for monitoring humidity inside a s...\n",
       "24730  Positive  30 Bearing 608ZZ 8x22x7 Good quality, very fas...\n",
       "62359  Positive  Use the red range to crimp smaller size wire i...\n",
       "56222  Positive  Fabulous! This is the greatest little gizmo fo..."
      ]
     },
     "execution_count": 89,
     "metadata": {},
     "output_type": "execute_result"
    }
   ],
   "source": [
    "sampled_df.head()"
   ]
  },
  {
   "cell_type": "code",
   "execution_count": 90,
   "id": "526c3e2a-e3bf-4508-9c61-d0c79b85cd51",
   "metadata": {},
   "outputs": [],
   "source": [
    "#6. Modeling (Sentiment Analysis) Lexicon approach:\n",
    "#a.Build two sentiment analysis models using the labeled pre-processed data for both the lexicons packages the team selected in step #3 above."
   ]
  },
  {
   "cell_type": "code",
   "execution_count": null,
   "id": "c29b4303-8141-4258-88eb-6f280c478e7d",
   "metadata": {},
   "outputs": [],
   "source": []
  },
  {
   "cell_type": "code",
   "execution_count": null,
   "id": "031e6f09-f429-4fc3-9861-1ed01c172e6b",
   "metadata": {},
   "outputs": [],
   "source": []
  },
  {
   "cell_type": "code",
   "execution_count": null,
   "id": "45e97fea-85e5-4994-8f3d-846edca69d5b",
   "metadata": {},
   "outputs": [],
   "source": []
  },
  {
   "cell_type": "code",
   "execution_count": null,
   "id": "69b23539-ee9c-4aaf-bfee-e41d188b2a40",
   "metadata": {},
   "outputs": [],
   "source": [
    "#7. Validate the results of both models and provide a comparision table."
   ]
  },
  {
   "cell_type": "code",
   "execution_count": null,
   "id": "fcd3a55b-0f92-4820-b4ed-85fd11c9e9a1",
   "metadata": {},
   "outputs": [],
   "source": []
  }
 ],
 "metadata": {
  "kernelspec": {
   "display_name": "Python 3 (ipykernel)",
   "language": "python",
   "name": "python3"
  },
  "language_info": {
   "codemirror_mode": {
    "name": "ipython",
    "version": 3
   },
   "file_extension": ".py",
   "mimetype": "text/x-python",
   "name": "python",
   "nbconvert_exporter": "python",
   "pygments_lexer": "ipython3",
   "version": "3.10.15"
  }
 },
 "nbformat": 4,
 "nbformat_minor": 5
}
